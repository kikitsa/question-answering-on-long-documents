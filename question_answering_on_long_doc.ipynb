{
  "nbformat": 4,
  "nbformat_minor": 0,
  "metadata": {
    "colab": {
      "name": "question-answering-on-long-doc.ipynb",
      "provenance": [],
      "collapsed_sections": [],
      "toc_visible": true
    },
    "kernelspec": {
      "name": "python3",
      "display_name": "Python 3"
    },
    "widgets": {
      "application/vnd.jupyter.widget-state+json": {
        "f6baaeff74434c2f9dd48f2bd958b78e": {
          "model_module": "@jupyter-widgets/controls",
          "model_name": "HBoxModel",
          "state": {
            "_view_name": "HBoxView",
            "_dom_classes": [],
            "_model_name": "HBoxModel",
            "_view_module": "@jupyter-widgets/controls",
            "_model_module_version": "1.5.0",
            "_view_count": null,
            "_view_module_version": "1.5.0",
            "box_style": "",
            "layout": "IPY_MODEL_11dd84c91cfd473aac34f49b26f71c56",
            "_model_module": "@jupyter-widgets/controls",
            "children": [
              "IPY_MODEL_df6f7602aad145d5a5125c8481acaf6a",
              "IPY_MODEL_1f34ebb6b4f64ad595703413998b8089"
            ]
          }
        },
        "11dd84c91cfd473aac34f49b26f71c56": {
          "model_module": "@jupyter-widgets/base",
          "model_name": "LayoutModel",
          "state": {
            "_view_name": "LayoutView",
            "grid_template_rows": null,
            "right": null,
            "justify_content": null,
            "_view_module": "@jupyter-widgets/base",
            "overflow": null,
            "_model_module_version": "1.2.0",
            "_view_count": null,
            "flex_flow": null,
            "width": null,
            "min_width": null,
            "border": null,
            "align_items": null,
            "bottom": null,
            "_model_module": "@jupyter-widgets/base",
            "top": null,
            "grid_column": null,
            "overflow_y": null,
            "overflow_x": null,
            "grid_auto_flow": null,
            "grid_area": null,
            "grid_template_columns": null,
            "flex": null,
            "_model_name": "LayoutModel",
            "justify_items": null,
            "grid_row": null,
            "max_height": null,
            "align_content": null,
            "visibility": null,
            "align_self": null,
            "height": null,
            "min_height": null,
            "padding": null,
            "grid_auto_rows": null,
            "grid_gap": null,
            "max_width": null,
            "order": null,
            "_view_module_version": "1.2.0",
            "grid_template_areas": null,
            "object_position": null,
            "object_fit": null,
            "grid_auto_columns": null,
            "margin": null,
            "display": null,
            "left": null
          }
        },
        "df6f7602aad145d5a5125c8481acaf6a": {
          "model_module": "@jupyter-widgets/controls",
          "model_name": "FloatProgressModel",
          "state": {
            "_view_name": "ProgressView",
            "style": "IPY_MODEL_b2c9747c234942ff879994861cced93c",
            "_dom_classes": [],
            "description": "Downloading: 100%",
            "_model_name": "FloatProgressModel",
            "bar_style": "success",
            "max": 529930,
            "_view_module": "@jupyter-widgets/controls",
            "_model_module_version": "1.5.0",
            "value": 529930,
            "_view_count": null,
            "_view_module_version": "1.5.0",
            "orientation": "horizontal",
            "min": 0,
            "description_tooltip": null,
            "_model_module": "@jupyter-widgets/controls",
            "layout": "IPY_MODEL_16fdaa38bc964d4499dc614b9f05a71d"
          }
        },
        "1f34ebb6b4f64ad595703413998b8089": {
          "model_module": "@jupyter-widgets/controls",
          "model_name": "HTMLModel",
          "state": {
            "_view_name": "HTMLView",
            "style": "IPY_MODEL_f656264012e746c1b4db181137bfe85a",
            "_dom_classes": [],
            "description": "",
            "_model_name": "HTMLModel",
            "placeholder": "​",
            "_view_module": "@jupyter-widgets/controls",
            "_model_module_version": "1.5.0",
            "value": " 530k/530k [00:01&lt;00:00, 442kB/s]",
            "_view_count": null,
            "_view_module_version": "1.5.0",
            "description_tooltip": null,
            "_model_module": "@jupyter-widgets/controls",
            "layout": "IPY_MODEL_92e6864175e44c3a8bbf8d9258fdcaae"
          }
        },
        "b2c9747c234942ff879994861cced93c": {
          "model_module": "@jupyter-widgets/controls",
          "model_name": "ProgressStyleModel",
          "state": {
            "_view_name": "StyleView",
            "_model_name": "ProgressStyleModel",
            "description_width": "initial",
            "_view_module": "@jupyter-widgets/base",
            "_model_module_version": "1.5.0",
            "_view_count": null,
            "_view_module_version": "1.2.0",
            "bar_color": null,
            "_model_module": "@jupyter-widgets/controls"
          }
        },
        "16fdaa38bc964d4499dc614b9f05a71d": {
          "model_module": "@jupyter-widgets/base",
          "model_name": "LayoutModel",
          "state": {
            "_view_name": "LayoutView",
            "grid_template_rows": null,
            "right": null,
            "justify_content": null,
            "_view_module": "@jupyter-widgets/base",
            "overflow": null,
            "_model_module_version": "1.2.0",
            "_view_count": null,
            "flex_flow": null,
            "width": null,
            "min_width": null,
            "border": null,
            "align_items": null,
            "bottom": null,
            "_model_module": "@jupyter-widgets/base",
            "top": null,
            "grid_column": null,
            "overflow_y": null,
            "overflow_x": null,
            "grid_auto_flow": null,
            "grid_area": null,
            "grid_template_columns": null,
            "flex": null,
            "_model_name": "LayoutModel",
            "justify_items": null,
            "grid_row": null,
            "max_height": null,
            "align_content": null,
            "visibility": null,
            "align_self": null,
            "height": null,
            "min_height": null,
            "padding": null,
            "grid_auto_rows": null,
            "grid_gap": null,
            "max_width": null,
            "order": null,
            "_view_module_version": "1.2.0",
            "grid_template_areas": null,
            "object_position": null,
            "object_fit": null,
            "grid_auto_columns": null,
            "margin": null,
            "display": null,
            "left": null
          }
        },
        "f656264012e746c1b4db181137bfe85a": {
          "model_module": "@jupyter-widgets/controls",
          "model_name": "DescriptionStyleModel",
          "state": {
            "_view_name": "StyleView",
            "_model_name": "DescriptionStyleModel",
            "description_width": "",
            "_view_module": "@jupyter-widgets/base",
            "_model_module_version": "1.5.0",
            "_view_count": null,
            "_view_module_version": "1.2.0",
            "_model_module": "@jupyter-widgets/controls"
          }
        },
        "92e6864175e44c3a8bbf8d9258fdcaae": {
          "model_module": "@jupyter-widgets/base",
          "model_name": "LayoutModel",
          "state": {
            "_view_name": "LayoutView",
            "grid_template_rows": null,
            "right": null,
            "justify_content": null,
            "_view_module": "@jupyter-widgets/base",
            "overflow": null,
            "_model_module_version": "1.2.0",
            "_view_count": null,
            "flex_flow": null,
            "width": null,
            "min_width": null,
            "border": null,
            "align_items": null,
            "bottom": null,
            "_model_module": "@jupyter-widgets/base",
            "top": null,
            "grid_column": null,
            "overflow_y": null,
            "overflow_x": null,
            "grid_auto_flow": null,
            "grid_area": null,
            "grid_template_columns": null,
            "flex": null,
            "_model_name": "LayoutModel",
            "justify_items": null,
            "grid_row": null,
            "max_height": null,
            "align_content": null,
            "visibility": null,
            "align_self": null,
            "height": null,
            "min_height": null,
            "padding": null,
            "grid_auto_rows": null,
            "grid_gap": null,
            "max_width": null,
            "order": null,
            "_view_module_version": "1.2.0",
            "grid_template_areas": null,
            "object_position": null,
            "object_fit": null,
            "grid_auto_columns": null,
            "margin": null,
            "display": null,
            "left": null
          }
        },
        "e75c54ad33604baabfdd5f54c708f690": {
          "model_module": "@jupyter-widgets/controls",
          "model_name": "HBoxModel",
          "state": {
            "_view_name": "HBoxView",
            "_dom_classes": [],
            "_model_name": "HBoxModel",
            "_view_module": "@jupyter-widgets/controls",
            "_model_module_version": "1.5.0",
            "_view_count": null,
            "_view_module_version": "1.5.0",
            "box_style": "",
            "layout": "IPY_MODEL_0523776547a243dda68a70be431ca98e",
            "_model_module": "@jupyter-widgets/controls",
            "children": [
              "IPY_MODEL_35050113c2cf4d57953d028c02a87102",
              "IPY_MODEL_b635e7927b6b43d5998db2002fe6c56d"
            ]
          }
        },
        "0523776547a243dda68a70be431ca98e": {
          "model_module": "@jupyter-widgets/base",
          "model_name": "LayoutModel",
          "state": {
            "_view_name": "LayoutView",
            "grid_template_rows": null,
            "right": null,
            "justify_content": null,
            "_view_module": "@jupyter-widgets/base",
            "overflow": null,
            "_model_module_version": "1.2.0",
            "_view_count": null,
            "flex_flow": null,
            "width": null,
            "min_width": null,
            "border": null,
            "align_items": null,
            "bottom": null,
            "_model_module": "@jupyter-widgets/base",
            "top": null,
            "grid_column": null,
            "overflow_y": null,
            "overflow_x": null,
            "grid_auto_flow": null,
            "grid_area": null,
            "grid_template_columns": null,
            "flex": null,
            "_model_name": "LayoutModel",
            "justify_items": null,
            "grid_row": null,
            "max_height": null,
            "align_content": null,
            "visibility": null,
            "align_self": null,
            "height": null,
            "min_height": null,
            "padding": null,
            "grid_auto_rows": null,
            "grid_gap": null,
            "max_width": null,
            "order": null,
            "_view_module_version": "1.2.0",
            "grid_template_areas": null,
            "object_position": null,
            "object_fit": null,
            "grid_auto_columns": null,
            "margin": null,
            "display": null,
            "left": null
          }
        },
        "35050113c2cf4d57953d028c02a87102": {
          "model_module": "@jupyter-widgets/controls",
          "model_name": "FloatProgressModel",
          "state": {
            "_view_name": "ProgressView",
            "style": "IPY_MODEL_807c63a97aae43f7bde0ca867575d6b4",
            "_dom_classes": [],
            "description": "Downloading: 100%",
            "_model_name": "FloatProgressModel",
            "bar_style": "success",
            "max": 112,
            "_view_module": "@jupyter-widgets/controls",
            "_model_module_version": "1.5.0",
            "value": 112,
            "_view_count": null,
            "_view_module_version": "1.5.0",
            "orientation": "horizontal",
            "min": 0,
            "description_tooltip": null,
            "_model_module": "@jupyter-widgets/controls",
            "layout": "IPY_MODEL_1e93ec85482f42818af1f5427ec116f0"
          }
        },
        "b635e7927b6b43d5998db2002fe6c56d": {
          "model_module": "@jupyter-widgets/controls",
          "model_name": "HTMLModel",
          "state": {
            "_view_name": "HTMLView",
            "style": "IPY_MODEL_fbe11a9d7f0a4123b6b03f44cd11158d",
            "_dom_classes": [],
            "description": "",
            "_model_name": "HTMLModel",
            "placeholder": "​",
            "_view_module": "@jupyter-widgets/controls",
            "_model_module_version": "1.5.0",
            "value": " 112/112 [00:00&lt;00:00, 338B/s]",
            "_view_count": null,
            "_view_module_version": "1.5.0",
            "description_tooltip": null,
            "_model_module": "@jupyter-widgets/controls",
            "layout": "IPY_MODEL_bd9de10c193647e89ee8c67407b9e4a6"
          }
        },
        "807c63a97aae43f7bde0ca867575d6b4": {
          "model_module": "@jupyter-widgets/controls",
          "model_name": "ProgressStyleModel",
          "state": {
            "_view_name": "StyleView",
            "_model_name": "ProgressStyleModel",
            "description_width": "initial",
            "_view_module": "@jupyter-widgets/base",
            "_model_module_version": "1.5.0",
            "_view_count": null,
            "_view_module_version": "1.2.0",
            "bar_color": null,
            "_model_module": "@jupyter-widgets/controls"
          }
        },
        "1e93ec85482f42818af1f5427ec116f0": {
          "model_module": "@jupyter-widgets/base",
          "model_name": "LayoutModel",
          "state": {
            "_view_name": "LayoutView",
            "grid_template_rows": null,
            "right": null,
            "justify_content": null,
            "_view_module": "@jupyter-widgets/base",
            "overflow": null,
            "_model_module_version": "1.2.0",
            "_view_count": null,
            "flex_flow": null,
            "width": null,
            "min_width": null,
            "border": null,
            "align_items": null,
            "bottom": null,
            "_model_module": "@jupyter-widgets/base",
            "top": null,
            "grid_column": null,
            "overflow_y": null,
            "overflow_x": null,
            "grid_auto_flow": null,
            "grid_area": null,
            "grid_template_columns": null,
            "flex": null,
            "_model_name": "LayoutModel",
            "justify_items": null,
            "grid_row": null,
            "max_height": null,
            "align_content": null,
            "visibility": null,
            "align_self": null,
            "height": null,
            "min_height": null,
            "padding": null,
            "grid_auto_rows": null,
            "grid_gap": null,
            "max_width": null,
            "order": null,
            "_view_module_version": "1.2.0",
            "grid_template_areas": null,
            "object_position": null,
            "object_fit": null,
            "grid_auto_columns": null,
            "margin": null,
            "display": null,
            "left": null
          }
        },
        "fbe11a9d7f0a4123b6b03f44cd11158d": {
          "model_module": "@jupyter-widgets/controls",
          "model_name": "DescriptionStyleModel",
          "state": {
            "_view_name": "StyleView",
            "_model_name": "DescriptionStyleModel",
            "description_width": "",
            "_view_module": "@jupyter-widgets/base",
            "_model_module_version": "1.5.0",
            "_view_count": null,
            "_view_module_version": "1.2.0",
            "_model_module": "@jupyter-widgets/controls"
          }
        },
        "bd9de10c193647e89ee8c67407b9e4a6": {
          "model_module": "@jupyter-widgets/base",
          "model_name": "LayoutModel",
          "state": {
            "_view_name": "LayoutView",
            "grid_template_rows": null,
            "right": null,
            "justify_content": null,
            "_view_module": "@jupyter-widgets/base",
            "overflow": null,
            "_model_module_version": "1.2.0",
            "_view_count": null,
            "flex_flow": null,
            "width": null,
            "min_width": null,
            "border": null,
            "align_items": null,
            "bottom": null,
            "_model_module": "@jupyter-widgets/base",
            "top": null,
            "grid_column": null,
            "overflow_y": null,
            "overflow_x": null,
            "grid_auto_flow": null,
            "grid_area": null,
            "grid_template_columns": null,
            "flex": null,
            "_model_name": "LayoutModel",
            "justify_items": null,
            "grid_row": null,
            "max_height": null,
            "align_content": null,
            "visibility": null,
            "align_self": null,
            "height": null,
            "min_height": null,
            "padding": null,
            "grid_auto_rows": null,
            "grid_gap": null,
            "max_width": null,
            "order": null,
            "_view_module_version": "1.2.0",
            "grid_template_areas": null,
            "object_position": null,
            "object_fit": null,
            "grid_auto_columns": null,
            "margin": null,
            "display": null,
            "left": null
          }
        },
        "df655a88147740c984c629114122b840": {
          "model_module": "@jupyter-widgets/controls",
          "model_name": "HBoxModel",
          "state": {
            "_view_name": "HBoxView",
            "_dom_classes": [],
            "_model_name": "HBoxModel",
            "_view_module": "@jupyter-widgets/controls",
            "_model_module_version": "1.5.0",
            "_view_count": null,
            "_view_module_version": "1.5.0",
            "box_style": "",
            "layout": "IPY_MODEL_94676d2c47ff408cabbaa57b48999f3e",
            "_model_module": "@jupyter-widgets/controls",
            "children": [
              "IPY_MODEL_5fd232b9d3904889afdcdbef25e97c58",
              "IPY_MODEL_fd7b1270cc974ec587115307f4d9cd14"
            ]
          }
        },
        "94676d2c47ff408cabbaa57b48999f3e": {
          "model_module": "@jupyter-widgets/base",
          "model_name": "LayoutModel",
          "state": {
            "_view_name": "LayoutView",
            "grid_template_rows": null,
            "right": null,
            "justify_content": null,
            "_view_module": "@jupyter-widgets/base",
            "overflow": null,
            "_model_module_version": "1.2.0",
            "_view_count": null,
            "flex_flow": null,
            "width": null,
            "min_width": null,
            "border": null,
            "align_items": null,
            "bottom": null,
            "_model_module": "@jupyter-widgets/base",
            "top": null,
            "grid_column": null,
            "overflow_y": null,
            "overflow_x": null,
            "grid_auto_flow": null,
            "grid_area": null,
            "grid_template_columns": null,
            "flex": null,
            "_model_name": "LayoutModel",
            "justify_items": null,
            "grid_row": null,
            "max_height": null,
            "align_content": null,
            "visibility": null,
            "align_self": null,
            "height": null,
            "min_height": null,
            "padding": null,
            "grid_auto_rows": null,
            "grid_gap": null,
            "max_width": null,
            "order": null,
            "_view_module_version": "1.2.0",
            "grid_template_areas": null,
            "object_position": null,
            "object_fit": null,
            "grid_auto_columns": null,
            "margin": null,
            "display": null,
            "left": null
          }
        },
        "5fd232b9d3904889afdcdbef25e97c58": {
          "model_module": "@jupyter-widgets/controls",
          "model_name": "FloatProgressModel",
          "state": {
            "_view_name": "ProgressView",
            "style": "IPY_MODEL_6d959f6966094d00a2ee1ff1bf0ee0d7",
            "_dom_classes": [],
            "description": "Downloading: 100%",
            "_model_name": "FloatProgressModel",
            "bar_style": "success",
            "max": 2,
            "_view_module": "@jupyter-widgets/controls",
            "_model_module_version": "1.5.0",
            "value": 2,
            "_view_count": null,
            "_view_module_version": "1.5.0",
            "orientation": "horizontal",
            "min": 0,
            "description_tooltip": null,
            "_model_module": "@jupyter-widgets/controls",
            "layout": "IPY_MODEL_107029126c834f76879a5c15aa5df564"
          }
        },
        "fd7b1270cc974ec587115307f4d9cd14": {
          "model_module": "@jupyter-widgets/controls",
          "model_name": "HTMLModel",
          "state": {
            "_view_name": "HTMLView",
            "style": "IPY_MODEL_1bd59ac4c6334a7a8fa119c0cf8b02c3",
            "_dom_classes": [],
            "description": "",
            "_model_name": "HTMLModel",
            "placeholder": "​",
            "_view_module": "@jupyter-widgets/controls",
            "_model_module_version": "1.5.0",
            "value": " 2.00/2.00 [00:00&lt;00:00, 27.0B/s]",
            "_view_count": null,
            "_view_module_version": "1.5.0",
            "description_tooltip": null,
            "_model_module": "@jupyter-widgets/controls",
            "layout": "IPY_MODEL_e1d3ae78a206427d9f3e4ecd21ca0d3a"
          }
        },
        "6d959f6966094d00a2ee1ff1bf0ee0d7": {
          "model_module": "@jupyter-widgets/controls",
          "model_name": "ProgressStyleModel",
          "state": {
            "_view_name": "StyleView",
            "_model_name": "ProgressStyleModel",
            "description_width": "initial",
            "_view_module": "@jupyter-widgets/base",
            "_model_module_version": "1.5.0",
            "_view_count": null,
            "_view_module_version": "1.2.0",
            "bar_color": null,
            "_model_module": "@jupyter-widgets/controls"
          }
        },
        "107029126c834f76879a5c15aa5df564": {
          "model_module": "@jupyter-widgets/base",
          "model_name": "LayoutModel",
          "state": {
            "_view_name": "LayoutView",
            "grid_template_rows": null,
            "right": null,
            "justify_content": null,
            "_view_module": "@jupyter-widgets/base",
            "overflow": null,
            "_model_module_version": "1.2.0",
            "_view_count": null,
            "flex_flow": null,
            "width": null,
            "min_width": null,
            "border": null,
            "align_items": null,
            "bottom": null,
            "_model_module": "@jupyter-widgets/base",
            "top": null,
            "grid_column": null,
            "overflow_y": null,
            "overflow_x": null,
            "grid_auto_flow": null,
            "grid_area": null,
            "grid_template_columns": null,
            "flex": null,
            "_model_name": "LayoutModel",
            "justify_items": null,
            "grid_row": null,
            "max_height": null,
            "align_content": null,
            "visibility": null,
            "align_self": null,
            "height": null,
            "min_height": null,
            "padding": null,
            "grid_auto_rows": null,
            "grid_gap": null,
            "max_width": null,
            "order": null,
            "_view_module_version": "1.2.0",
            "grid_template_areas": null,
            "object_position": null,
            "object_fit": null,
            "grid_auto_columns": null,
            "margin": null,
            "display": null,
            "left": null
          }
        },
        "1bd59ac4c6334a7a8fa119c0cf8b02c3": {
          "model_module": "@jupyter-widgets/controls",
          "model_name": "DescriptionStyleModel",
          "state": {
            "_view_name": "StyleView",
            "_model_name": "DescriptionStyleModel",
            "description_width": "",
            "_view_module": "@jupyter-widgets/base",
            "_model_module_version": "1.5.0",
            "_view_count": null,
            "_view_module_version": "1.2.0",
            "_model_module": "@jupyter-widgets/controls"
          }
        },
        "e1d3ae78a206427d9f3e4ecd21ca0d3a": {
          "model_module": "@jupyter-widgets/base",
          "model_name": "LayoutModel",
          "state": {
            "_view_name": "LayoutView",
            "grid_template_rows": null,
            "right": null,
            "justify_content": null,
            "_view_module": "@jupyter-widgets/base",
            "overflow": null,
            "_model_module_version": "1.2.0",
            "_view_count": null,
            "flex_flow": null,
            "width": null,
            "min_width": null,
            "border": null,
            "align_items": null,
            "bottom": null,
            "_model_module": "@jupyter-widgets/base",
            "top": null,
            "grid_column": null,
            "overflow_y": null,
            "overflow_x": null,
            "grid_auto_flow": null,
            "grid_area": null,
            "grid_template_columns": null,
            "flex": null,
            "_model_name": "LayoutModel",
            "justify_items": null,
            "grid_row": null,
            "max_height": null,
            "align_content": null,
            "visibility": null,
            "align_self": null,
            "height": null,
            "min_height": null,
            "padding": null,
            "grid_auto_rows": null,
            "grid_gap": null,
            "max_width": null,
            "order": null,
            "_view_module_version": "1.2.0",
            "grid_template_areas": null,
            "object_position": null,
            "object_fit": null,
            "grid_auto_columns": null,
            "margin": null,
            "display": null,
            "left": null
          }
        },
        "382232d53d1d472dbbf90cb255b31686": {
          "model_module": "@jupyter-widgets/controls",
          "model_name": "HBoxModel",
          "state": {
            "_view_name": "HBoxView",
            "_dom_classes": [],
            "_model_name": "HBoxModel",
            "_view_module": "@jupyter-widgets/controls",
            "_model_module_version": "1.5.0",
            "_view_count": null,
            "_view_module_version": "1.5.0",
            "box_style": "",
            "layout": "IPY_MODEL_ac3f295c1eb842178162b7be4a47dccd",
            "_model_module": "@jupyter-widgets/controls",
            "children": [
              "IPY_MODEL_4aac74463cb84bf792d0abc518e257e9",
              "IPY_MODEL_4093ca913cf44e6687f8499e5fa2a575"
            ]
          }
        },
        "ac3f295c1eb842178162b7be4a47dccd": {
          "model_module": "@jupyter-widgets/base",
          "model_name": "LayoutModel",
          "state": {
            "_view_name": "LayoutView",
            "grid_template_rows": null,
            "right": null,
            "justify_content": null,
            "_view_module": "@jupyter-widgets/base",
            "overflow": null,
            "_model_module_version": "1.2.0",
            "_view_count": null,
            "flex_flow": null,
            "width": null,
            "min_width": null,
            "border": null,
            "align_items": null,
            "bottom": null,
            "_model_module": "@jupyter-widgets/base",
            "top": null,
            "grid_column": null,
            "overflow_y": null,
            "overflow_x": null,
            "grid_auto_flow": null,
            "grid_area": null,
            "grid_template_columns": null,
            "flex": null,
            "_model_name": "LayoutModel",
            "justify_items": null,
            "grid_row": null,
            "max_height": null,
            "align_content": null,
            "visibility": null,
            "align_self": null,
            "height": null,
            "min_height": null,
            "padding": null,
            "grid_auto_rows": null,
            "grid_gap": null,
            "max_width": null,
            "order": null,
            "_view_module_version": "1.2.0",
            "grid_template_areas": null,
            "object_position": null,
            "object_fit": null,
            "grid_auto_columns": null,
            "margin": null,
            "display": null,
            "left": null
          }
        },
        "4aac74463cb84bf792d0abc518e257e9": {
          "model_module": "@jupyter-widgets/controls",
          "model_name": "FloatProgressModel",
          "state": {
            "_view_name": "ProgressView",
            "style": "IPY_MODEL_77dba26f5a654b05b23900b6b917afbe",
            "_dom_classes": [],
            "description": "Downloading: 100%",
            "_model_name": "FloatProgressModel",
            "bar_style": "success",
            "max": 459,
            "_view_module": "@jupyter-widgets/controls",
            "_model_module_version": "1.5.0",
            "value": 459,
            "_view_count": null,
            "_view_module_version": "1.5.0",
            "orientation": "horizontal",
            "min": 0,
            "description_tooltip": null,
            "_model_module": "@jupyter-widgets/controls",
            "layout": "IPY_MODEL_57e622c6de6b47fb9bad1bdb93047c48"
          }
        },
        "4093ca913cf44e6687f8499e5fa2a575": {
          "model_module": "@jupyter-widgets/controls",
          "model_name": "HTMLModel",
          "state": {
            "_view_name": "HTMLView",
            "style": "IPY_MODEL_68483e88398a4b80b7dd8ce07474d947",
            "_dom_classes": [],
            "description": "",
            "_model_name": "HTMLModel",
            "placeholder": "​",
            "_view_module": "@jupyter-widgets/controls",
            "_model_module_version": "1.5.0",
            "value": " 459/459 [00:08&lt;00:00, 55.3B/s]",
            "_view_count": null,
            "_view_module_version": "1.5.0",
            "description_tooltip": null,
            "_model_module": "@jupyter-widgets/controls",
            "layout": "IPY_MODEL_003806ffb1b348d6a7c167436d11e69d"
          }
        },
        "77dba26f5a654b05b23900b6b917afbe": {
          "model_module": "@jupyter-widgets/controls",
          "model_name": "ProgressStyleModel",
          "state": {
            "_view_name": "StyleView",
            "_model_name": "ProgressStyleModel",
            "description_width": "initial",
            "_view_module": "@jupyter-widgets/base",
            "_model_module_version": "1.5.0",
            "_view_count": null,
            "_view_module_version": "1.2.0",
            "bar_color": null,
            "_model_module": "@jupyter-widgets/controls"
          }
        },
        "57e622c6de6b47fb9bad1bdb93047c48": {
          "model_module": "@jupyter-widgets/base",
          "model_name": "LayoutModel",
          "state": {
            "_view_name": "LayoutView",
            "grid_template_rows": null,
            "right": null,
            "justify_content": null,
            "_view_module": "@jupyter-widgets/base",
            "overflow": null,
            "_model_module_version": "1.2.0",
            "_view_count": null,
            "flex_flow": null,
            "width": null,
            "min_width": null,
            "border": null,
            "align_items": null,
            "bottom": null,
            "_model_module": "@jupyter-widgets/base",
            "top": null,
            "grid_column": null,
            "overflow_y": null,
            "overflow_x": null,
            "grid_auto_flow": null,
            "grid_area": null,
            "grid_template_columns": null,
            "flex": null,
            "_model_name": "LayoutModel",
            "justify_items": null,
            "grid_row": null,
            "max_height": null,
            "align_content": null,
            "visibility": null,
            "align_self": null,
            "height": null,
            "min_height": null,
            "padding": null,
            "grid_auto_rows": null,
            "grid_gap": null,
            "max_width": null,
            "order": null,
            "_view_module_version": "1.2.0",
            "grid_template_areas": null,
            "object_position": null,
            "object_fit": null,
            "grid_auto_columns": null,
            "margin": null,
            "display": null,
            "left": null
          }
        },
        "68483e88398a4b80b7dd8ce07474d947": {
          "model_module": "@jupyter-widgets/controls",
          "model_name": "DescriptionStyleModel",
          "state": {
            "_view_name": "StyleView",
            "_model_name": "DescriptionStyleModel",
            "description_width": "",
            "_view_module": "@jupyter-widgets/base",
            "_model_module_version": "1.5.0",
            "_view_count": null,
            "_view_module_version": "1.2.0",
            "_model_module": "@jupyter-widgets/controls"
          }
        },
        "003806ffb1b348d6a7c167436d11e69d": {
          "model_module": "@jupyter-widgets/base",
          "model_name": "LayoutModel",
          "state": {
            "_view_name": "LayoutView",
            "grid_template_rows": null,
            "right": null,
            "justify_content": null,
            "_view_module": "@jupyter-widgets/base",
            "overflow": null,
            "_model_module_version": "1.2.0",
            "_view_count": null,
            "flex_flow": null,
            "width": null,
            "min_width": null,
            "border": null,
            "align_items": null,
            "bottom": null,
            "_model_module": "@jupyter-widgets/base",
            "top": null,
            "grid_column": null,
            "overflow_y": null,
            "overflow_x": null,
            "grid_auto_flow": null,
            "grid_area": null,
            "grid_template_columns": null,
            "flex": null,
            "_model_name": "LayoutModel",
            "justify_items": null,
            "grid_row": null,
            "max_height": null,
            "align_content": null,
            "visibility": null,
            "align_self": null,
            "height": null,
            "min_height": null,
            "padding": null,
            "grid_auto_rows": null,
            "grid_gap": null,
            "max_width": null,
            "order": null,
            "_view_module_version": "1.2.0",
            "grid_template_areas": null,
            "object_position": null,
            "object_fit": null,
            "grid_auto_columns": null,
            "margin": null,
            "display": null,
            "left": null
          }
        },
        "b935abcaae71419ca6dae12c9de452c4": {
          "model_module": "@jupyter-widgets/controls",
          "model_name": "HBoxModel",
          "state": {
            "_view_name": "HBoxView",
            "_dom_classes": [],
            "_model_name": "HBoxModel",
            "_view_module": "@jupyter-widgets/controls",
            "_model_module_version": "1.5.0",
            "_view_count": null,
            "_view_module_version": "1.5.0",
            "box_style": "",
            "layout": "IPY_MODEL_2aefa0978d24458d9ae78087bab17a0b",
            "_model_module": "@jupyter-widgets/controls",
            "children": [
              "IPY_MODEL_91bee85e0aad4e4d9ecd23b41756fb31",
              "IPY_MODEL_a626e610120b4bf0bd7d82c6a1736838"
            ]
          }
        },
        "2aefa0978d24458d9ae78087bab17a0b": {
          "model_module": "@jupyter-widgets/base",
          "model_name": "LayoutModel",
          "state": {
            "_view_name": "LayoutView",
            "grid_template_rows": null,
            "right": null,
            "justify_content": null,
            "_view_module": "@jupyter-widgets/base",
            "overflow": null,
            "_model_module_version": "1.2.0",
            "_view_count": null,
            "flex_flow": null,
            "width": null,
            "min_width": null,
            "border": null,
            "align_items": null,
            "bottom": null,
            "_model_module": "@jupyter-widgets/base",
            "top": null,
            "grid_column": null,
            "overflow_y": null,
            "overflow_x": null,
            "grid_auto_flow": null,
            "grid_area": null,
            "grid_template_columns": null,
            "flex": null,
            "_model_name": "LayoutModel",
            "justify_items": null,
            "grid_row": null,
            "max_height": null,
            "align_content": null,
            "visibility": null,
            "align_self": null,
            "height": null,
            "min_height": null,
            "padding": null,
            "grid_auto_rows": null,
            "grid_gap": null,
            "max_width": null,
            "order": null,
            "_view_module_version": "1.2.0",
            "grid_template_areas": null,
            "object_position": null,
            "object_fit": null,
            "grid_auto_columns": null,
            "margin": null,
            "display": null,
            "left": null
          }
        },
        "91bee85e0aad4e4d9ecd23b41756fb31": {
          "model_module": "@jupyter-widgets/controls",
          "model_name": "FloatProgressModel",
          "state": {
            "_view_name": "ProgressView",
            "style": "IPY_MODEL_2bbfdece0e7c49fd957b8e7097757469",
            "_dom_classes": [],
            "description": "Downloading: 100%",
            "_model_name": "FloatProgressModel",
            "bar_style": "success",
            "max": 563593952,
            "_view_module": "@jupyter-widgets/controls",
            "_model_module_version": "1.5.0",
            "value": 563593952,
            "_view_count": null,
            "_view_module_version": "1.5.0",
            "orientation": "horizontal",
            "min": 0,
            "description_tooltip": null,
            "_model_module": "@jupyter-widgets/controls",
            "layout": "IPY_MODEL_177c83ffe51f4a90a36baed13c145f95"
          }
        },
        "a626e610120b4bf0bd7d82c6a1736838": {
          "model_module": "@jupyter-widgets/controls",
          "model_name": "HTMLModel",
          "state": {
            "_view_name": "HTMLView",
            "style": "IPY_MODEL_a64970affcca42d6be04c92729481c4a",
            "_dom_classes": [],
            "description": "",
            "_model_name": "HTMLModel",
            "placeholder": "​",
            "_view_module": "@jupyter-widgets/controls",
            "_model_module_version": "1.5.0",
            "value": " 564M/564M [00:07&lt;00:00, 75.9MB/s]",
            "_view_count": null,
            "_view_module_version": "1.5.0",
            "description_tooltip": null,
            "_model_module": "@jupyter-widgets/controls",
            "layout": "IPY_MODEL_33ae475e9a684979824e3cb4a0fdd9c7"
          }
        },
        "2bbfdece0e7c49fd957b8e7097757469": {
          "model_module": "@jupyter-widgets/controls",
          "model_name": "ProgressStyleModel",
          "state": {
            "_view_name": "StyleView",
            "_model_name": "ProgressStyleModel",
            "description_width": "initial",
            "_view_module": "@jupyter-widgets/base",
            "_model_module_version": "1.5.0",
            "_view_count": null,
            "_view_module_version": "1.2.0",
            "bar_color": null,
            "_model_module": "@jupyter-widgets/controls"
          }
        },
        "177c83ffe51f4a90a36baed13c145f95": {
          "model_module": "@jupyter-widgets/base",
          "model_name": "LayoutModel",
          "state": {
            "_view_name": "LayoutView",
            "grid_template_rows": null,
            "right": null,
            "justify_content": null,
            "_view_module": "@jupyter-widgets/base",
            "overflow": null,
            "_model_module_version": "1.2.0",
            "_view_count": null,
            "flex_flow": null,
            "width": null,
            "min_width": null,
            "border": null,
            "align_items": null,
            "bottom": null,
            "_model_module": "@jupyter-widgets/base",
            "top": null,
            "grid_column": null,
            "overflow_y": null,
            "overflow_x": null,
            "grid_auto_flow": null,
            "grid_area": null,
            "grid_template_columns": null,
            "flex": null,
            "_model_name": "LayoutModel",
            "justify_items": null,
            "grid_row": null,
            "max_height": null,
            "align_content": null,
            "visibility": null,
            "align_self": null,
            "height": null,
            "min_height": null,
            "padding": null,
            "grid_auto_rows": null,
            "grid_gap": null,
            "max_width": null,
            "order": null,
            "_view_module_version": "1.2.0",
            "grid_template_areas": null,
            "object_position": null,
            "object_fit": null,
            "grid_auto_columns": null,
            "margin": null,
            "display": null,
            "left": null
          }
        },
        "a64970affcca42d6be04c92729481c4a": {
          "model_module": "@jupyter-widgets/controls",
          "model_name": "DescriptionStyleModel",
          "state": {
            "_view_name": "StyleView",
            "_model_name": "DescriptionStyleModel",
            "description_width": "",
            "_view_module": "@jupyter-widgets/base",
            "_model_module_version": "1.5.0",
            "_view_count": null,
            "_view_module_version": "1.2.0",
            "_model_module": "@jupyter-widgets/controls"
          }
        },
        "33ae475e9a684979824e3cb4a0fdd9c7": {
          "model_module": "@jupyter-widgets/base",
          "model_name": "LayoutModel",
          "state": {
            "_view_name": "LayoutView",
            "grid_template_rows": null,
            "right": null,
            "justify_content": null,
            "_view_module": "@jupyter-widgets/base",
            "overflow": null,
            "_model_module_version": "1.2.0",
            "_view_count": null,
            "flex_flow": null,
            "width": null,
            "min_width": null,
            "border": null,
            "align_items": null,
            "bottom": null,
            "_model_module": "@jupyter-widgets/base",
            "top": null,
            "grid_column": null,
            "overflow_y": null,
            "overflow_x": null,
            "grid_auto_flow": null,
            "grid_area": null,
            "grid_template_columns": null,
            "flex": null,
            "_model_name": "LayoutModel",
            "justify_items": null,
            "grid_row": null,
            "max_height": null,
            "align_content": null,
            "visibility": null,
            "align_self": null,
            "height": null,
            "min_height": null,
            "padding": null,
            "grid_auto_rows": null,
            "grid_gap": null,
            "max_width": null,
            "order": null,
            "_view_module_version": "1.2.0",
            "grid_template_areas": null,
            "object_position": null,
            "object_fit": null,
            "grid_auto_columns": null,
            "margin": null,
            "display": null,
            "left": null
          }
        }
      }
    },
    "accelerator": "GPU"
  },
  "cells": [
    {
      "cell_type": "markdown",
      "metadata": {
        "id": "dW12YkFxQ5Qn"
      },
      "source": [
        "##Setup\n",
        "\n"
      ]
    },
    {
      "cell_type": "code",
      "metadata": {
        "id": "Ki6dpHq-wuUE",
        "colab": {
          "base_uri": "https://localhost:8080/"
        },
        "outputId": "bc0f02b5-ca3f-4d1b-a0ce-686c5ec48376"
      },
      "source": [
        "%pip install transformers==3.4.0"
      ],
      "execution_count": 1,
      "outputs": [
        {
          "output_type": "stream",
          "text": [
            "Collecting transformers==3.4.0\n",
            "\u001b[?25l  Downloading https://files.pythonhosted.org/packages/2c/4e/4f1ede0fd7a36278844a277f8d53c21f88f37f3754abf76a5d6224f76d4a/transformers-3.4.0-py3-none-any.whl (1.3MB)\n",
            "\u001b[K     |████████████████████████████████| 1.3MB 5.6MB/s \n",
            "\u001b[?25hRequirement already satisfied: numpy in /usr/local/lib/python3.6/dist-packages (from transformers==3.4.0) (1.19.5)\n",
            "Requirement already satisfied: packaging in /usr/local/lib/python3.6/dist-packages (from transformers==3.4.0) (20.9)\n",
            "Requirement already satisfied: filelock in /usr/local/lib/python3.6/dist-packages (from transformers==3.4.0) (3.0.12)\n",
            "Requirement already satisfied: protobuf in /usr/local/lib/python3.6/dist-packages (from transformers==3.4.0) (3.12.4)\n",
            "Collecting sacremoses\n",
            "\u001b[?25l  Downloading https://files.pythonhosted.org/packages/7d/34/09d19aff26edcc8eb2a01bed8e98f13a1537005d31e95233fd48216eed10/sacremoses-0.0.43.tar.gz (883kB)\n",
            "\u001b[K     |████████████████████████████████| 890kB 9.4MB/s \n",
            "\u001b[?25hRequirement already satisfied: regex!=2019.12.17 in /usr/local/lib/python3.6/dist-packages (from transformers==3.4.0) (2019.12.20)\n",
            "Requirement already satisfied: requests in /usr/local/lib/python3.6/dist-packages (from transformers==3.4.0) (2.23.0)\n",
            "Collecting tokenizers==0.9.2\n",
            "\u001b[?25l  Downloading https://files.pythonhosted.org/packages/7c/a5/78be1a55b2ac8d6a956f0a211d372726e2b1dd2666bb537fea9b03abd62c/tokenizers-0.9.2-cp36-cp36m-manylinux1_x86_64.whl (2.9MB)\n",
            "\u001b[K     |████████████████████████████████| 2.9MB 18.0MB/s \n",
            "\u001b[?25hRequirement already satisfied: dataclasses; python_version < \"3.7\" in /usr/local/lib/python3.6/dist-packages (from transformers==3.4.0) (0.8)\n",
            "Collecting sentencepiece!=0.1.92\n",
            "\u001b[?25l  Downloading https://files.pythonhosted.org/packages/14/67/e42bd1181472c95c8cda79305df848264f2a7f62740995a46945d9797b67/sentencepiece-0.1.95-cp36-cp36m-manylinux2014_x86_64.whl (1.2MB)\n",
            "\u001b[K     |████████████████████████████████| 1.2MB 51.6MB/s \n",
            "\u001b[?25hRequirement already satisfied: tqdm>=4.27 in /usr/local/lib/python3.6/dist-packages (from transformers==3.4.0) (4.41.1)\n",
            "Requirement already satisfied: pyparsing>=2.0.2 in /usr/local/lib/python3.6/dist-packages (from packaging->transformers==3.4.0) (2.4.7)\n",
            "Requirement already satisfied: setuptools in /usr/local/lib/python3.6/dist-packages (from protobuf->transformers==3.4.0) (53.0.0)\n",
            "Requirement already satisfied: six>=1.9 in /usr/local/lib/python3.6/dist-packages (from protobuf->transformers==3.4.0) (1.15.0)\n",
            "Requirement already satisfied: click in /usr/local/lib/python3.6/dist-packages (from sacremoses->transformers==3.4.0) (7.1.2)\n",
            "Requirement already satisfied: joblib in /usr/local/lib/python3.6/dist-packages (from sacremoses->transformers==3.4.0) (1.0.0)\n",
            "Requirement already satisfied: chardet<4,>=3.0.2 in /usr/local/lib/python3.6/dist-packages (from requests->transformers==3.4.0) (3.0.4)\n",
            "Requirement already satisfied: idna<3,>=2.5 in /usr/local/lib/python3.6/dist-packages (from requests->transformers==3.4.0) (2.10)\n",
            "Requirement already satisfied: urllib3!=1.25.0,!=1.25.1,<1.26,>=1.21.1 in /usr/local/lib/python3.6/dist-packages (from requests->transformers==3.4.0) (1.24.3)\n",
            "Requirement already satisfied: certifi>=2017.4.17 in /usr/local/lib/python3.6/dist-packages (from requests->transformers==3.4.0) (2020.12.5)\n",
            "Building wheels for collected packages: sacremoses\n",
            "  Building wheel for sacremoses (setup.py) ... \u001b[?25l\u001b[?25hdone\n",
            "  Created wheel for sacremoses: filename=sacremoses-0.0.43-cp36-none-any.whl size=893261 sha256=876c07c28a25f5855e8934573f5e0bd30645dc16654801441a551f4e02af2fad\n",
            "  Stored in directory: /root/.cache/pip/wheels/29/3c/fd/7ce5c3f0666dab31a50123635e6fb5e19ceb42ce38d4e58f45\n",
            "Successfully built sacremoses\n",
            "Installing collected packages: sacremoses, tokenizers, sentencepiece, transformers\n",
            "Successfully installed sacremoses-0.0.43 sentencepiece-0.1.95 tokenizers-0.9.2 transformers-3.4.0\n"
          ],
          "name": "stdout"
        }
      ]
    },
    {
      "cell_type": "code",
      "metadata": {
        "id": "l33u8oxUwhtm"
      },
      "source": [
        "%tensorflow_version 2.x\n",
        "import tensorflow as tf\n",
        "\n",
        "import urllib\n",
        "import unicodedata\n",
        "\n",
        "import pandas as pd\n",
        "import numpy as np\n",
        "import os\n",
        "import re\n",
        "import json\n",
        "import random\n",
        "import matplotlib.pyplot as plt\n",
        "from pandas.io.json import json_normalize\n",
        "from transformers import BertTokenizerFast, TFBertForQuestionAnswering"
      ],
      "execution_count": 2,
      "outputs": []
    },
    {
      "cell_type": "code",
      "metadata": {
        "id": "Zmi9zRx2vpIh"
      },
      "source": [
        "TRAIN_FRACTION = 0.9\n",
        "PRETRAINED_MODEL_NAME = 'nlpaueb/bert-base-greek-uncased-v1'"
      ],
      "execution_count": 3,
      "outputs": []
    },
    {
      "cell_type": "markdown",
      "metadata": {
        "id": "l8pcnI9YhFU1"
      },
      "source": [
        "Starts the GPU\n",
        "\n",
        "In order to enable the GPU:\n",
        "\n",
        "* navigate to Edit→Notebook Settings\n",
        "* select GPU from the Hardware Accelerator drop-down"
      ]
    },
    {
      "cell_type": "code",
      "metadata": {
        "colab": {
          "base_uri": "https://localhost:8080/"
        },
        "id": "XVjFvSgAhSqZ",
        "outputId": "e63fe47b-72f0-4eca-e5fc-5d4bd3ae51e1"
      },
      "source": [
        "device_name = tf.test.gpu_device_name()\n",
        "if device_name != '/device:GPU:0':\n",
        "  raise SystemError('GPU device not found')\n",
        "print('Found GPU at: {}'.format(device_name))"
      ],
      "execution_count": 4,
      "outputs": [
        {
          "output_type": "stream",
          "text": [
            "Found GPU at: /device:GPU:0\n"
          ],
          "name": "stdout"
        }
      ]
    },
    {
      "cell_type": "markdown",
      "metadata": {
        "id": "xjx63J9IzdXJ"
      },
      "source": [
        "I retrieve the data-set at the below code cell. Due to some confidentiality concerns I can't share the data set."
      ]
    },
    {
      "cell_type": "code",
      "metadata": {
        "id": "i69T_I4LzfKD"
      },
      "source": [
        "# TODO: add your data-set"
      ],
      "execution_count": null,
      "outputs": []
    },
    {
      "cell_type": "markdown",
      "metadata": {
        "id": "-eMBhHbz1LP5"
      },
      "source": [
        "##Data preparation"
      ]
    },
    {
      "cell_type": "code",
      "metadata": {
        "id": "yhMkAo0_1L4D"
      },
      "source": [
        "# load greek stop words\n",
        "stop_words = []\n",
        "with open(os.path.join('data', 'stop_words.txt'), 'r', encoding='utf-8') as stop_words_file:\n",
        "    for line in stop_words_file.readlines():\n",
        "        stop_words.append(line[:-1])       "
      ],
      "execution_count": 7,
      "outputs": []
    },
    {
      "cell_type": "code",
      "metadata": {
        "id": "CwX-sEKx_6mE"
      },
      "source": [
        "def strip_accents_and_lowercase(s):\n",
        "   return ''.join(c for c in unicodedata.normalize('NFD', s)\n",
        "                  if unicodedata.category(c) != 'Mn').lower()"
      ],
      "execution_count": 8,
      "outputs": []
    },
    {
      "cell_type": "code",
      "metadata": {
        "id": "KdhNGnQpwm3k"
      },
      "source": [
        "def text_processing(text):\n",
        "    # to lowercase letters and remove all Greek diacritics\n",
        "    lower_case_text = strip_accents_and_lowercase(text)\n",
        "    # remove non words\n",
        "    clean = re.sub(\"[^Α-ΩΆΈΌΊΏΉΎα-ωάέόίώήύϊϋ]\", \" \", lower_case_text)\n",
        "    split_to_tokens = clean.split()\n",
        "    split_to_tokens = [w for w in split_to_tokens if w not in stop_words]\n",
        "    return ' '.join(split_to_tokens)"
      ],
      "execution_count": 9,
      "outputs": []
    },
    {
      "cell_type": "code",
      "metadata": {
        "id": "x5gd0EWq1gcQ",
        "colab": {
          "base_uri": "https://localhost:8080/"
        },
        "outputId": "dfeabc91-4fe0-4824-d602-7c80338536d9"
      },
      "source": [
        "# read the json file with the annotated answers\n",
        "with open(os.path.join('data', 'answers.json'), 'r', encoding='utf-8') as input_json:\n",
        "    answers_json_file = json.loads(input_json.read())\n",
        "\n",
        "# normalize json file to dataframe\n",
        "answers_df = json_normalize(answers_json_file['data'])\n",
        "\n",
        "with open(os.path.join('data', 'documents.json'), 'r', encoding='utf-8') as input_json:\n",
        "    documents_json_file = json.loads(input_json.read())\n",
        "\n",
        "documents_df = json_normalize(documents_json_file['data'])\n",
        "\n",
        "# read the questions file\n",
        "questions_df = pd.read_csv(os.path.join('data', 'questions.csv'))"
      ],
      "execution_count": 10,
      "outputs": [
        {
          "output_type": "stream",
          "text": [
            "/usr/local/lib/python3.6/dist-packages/ipykernel_launcher.py:6: FutureWarning: pandas.io.json.json_normalize is deprecated, use pandas.json_normalize instead\n",
            "  \n",
            "/usr/local/lib/python3.6/dist-packages/ipykernel_launcher.py:11: FutureWarning: pandas.io.json.json_normalize is deprecated, use pandas.json_normalize instead\n",
            "  # This is added back by InteractiveShellApp.init_path()\n"
          ],
          "name": "stderr"
        }
      ]
    },
    {
      "cell_type": "code",
      "metadata": {
        "id": "f6XvKTjoC3e8",
        "colab": {
          "base_uri": "https://localhost:8080/",
          "height": 167,
          "referenced_widgets": [
            "f6baaeff74434c2f9dd48f2bd958b78e",
            "11dd84c91cfd473aac34f49b26f71c56",
            "df6f7602aad145d5a5125c8481acaf6a",
            "1f34ebb6b4f64ad595703413998b8089",
            "b2c9747c234942ff879994861cced93c",
            "16fdaa38bc964d4499dc614b9f05a71d",
            "f656264012e746c1b4db181137bfe85a",
            "92e6864175e44c3a8bbf8d9258fdcaae",
            "e75c54ad33604baabfdd5f54c708f690",
            "0523776547a243dda68a70be431ca98e",
            "35050113c2cf4d57953d028c02a87102",
            "b635e7927b6b43d5998db2002fe6c56d",
            "807c63a97aae43f7bde0ca867575d6b4",
            "1e93ec85482f42818af1f5427ec116f0",
            "fbe11a9d7f0a4123b6b03f44cd11158d",
            "bd9de10c193647e89ee8c67407b9e4a6",
            "df655a88147740c984c629114122b840",
            "94676d2c47ff408cabbaa57b48999f3e",
            "5fd232b9d3904889afdcdbef25e97c58",
            "fd7b1270cc974ec587115307f4d9cd14",
            "6d959f6966094d00a2ee1ff1bf0ee0d7",
            "107029126c834f76879a5c15aa5df564",
            "1bd59ac4c6334a7a8fa119c0cf8b02c3",
            "e1d3ae78a206427d9f3e4ecd21ca0d3a"
          ]
        },
        "outputId": "2663a0d1-20ba-4b96-cadc-d853fbc6c354"
      },
      "source": [
        "tokenizer = BertTokenizerFast.from_pretrained(PRETRAINED_MODEL_NAME)"
      ],
      "execution_count": 14,
      "outputs": [
        {
          "output_type": "display_data",
          "data": {
            "application/vnd.jupyter.widget-view+json": {
              "model_id": "f6baaeff74434c2f9dd48f2bd958b78e",
              "version_minor": 0,
              "version_major": 2
            },
            "text/plain": [
              "HBox(children=(FloatProgress(value=0.0, description='Downloading', max=529930.0, style=ProgressStyle(descripti…"
            ]
          },
          "metadata": {
            "tags": []
          }
        },
        {
          "output_type": "stream",
          "text": [
            "\n"
          ],
          "name": "stdout"
        },
        {
          "output_type": "display_data",
          "data": {
            "application/vnd.jupyter.widget-view+json": {
              "model_id": "e75c54ad33604baabfdd5f54c708f690",
              "version_minor": 0,
              "version_major": 2
            },
            "text/plain": [
              "HBox(children=(FloatProgress(value=0.0, description='Downloading', max=112.0, style=ProgressStyle(description_…"
            ]
          },
          "metadata": {
            "tags": []
          }
        },
        {
          "output_type": "stream",
          "text": [
            "\n"
          ],
          "name": "stdout"
        },
        {
          "output_type": "display_data",
          "data": {
            "application/vnd.jupyter.widget-view+json": {
              "model_id": "df655a88147740c984c629114122b840",
              "version_minor": 0,
              "version_major": 2
            },
            "text/plain": [
              "HBox(children=(FloatProgress(value=0.0, description='Downloading', max=2.0, style=ProgressStyle(description_wi…"
            ]
          },
          "metadata": {
            "tags": []
          }
        },
        {
          "output_type": "stream",
          "text": [
            "\n"
          ],
          "name": "stdout"
        }
      ]
    },
    {
      "cell_type": "markdown",
      "metadata": {
        "id": "Dtw6qMCMIRL1"
      },
      "source": [
        "Calculates the max number of tokens that the context, which contains the answer for a given question, can consist of."
      ]
    },
    {
      "cell_type": "code",
      "metadata": {
        "id": "B2o2Oy89HMaf",
        "colab": {
          "base_uri": "https://localhost:8080/"
        },
        "outputId": "0af75a4c-4304-409e-8a0b-55d69448fc3c"
      },
      "source": [
        "tokens_num_of_longest_question = 0\n",
        "for index, question in questions_df.iterrows():\n",
        "  question_tokens = tokenizer.tokenize(question['original_question'])\n",
        "  number_of_tokens = len(question_tokens)\n",
        "  if number_of_tokens > tokens_num_of_longest_question:\n",
        "    tokens_num_of_longest_question = number_of_tokens\n",
        "\n",
        "print('The longest question consists of {} tokens '.format(str(tokens_num_of_longest_question)))\n",
        "\n",
        "max_num_of_ctx_tokens = 512 - tokens_num_of_longest_question - 5\n",
        "print('The context which contains the answer can be max {} tokens'.format(str(max_num_of_ctx_tokens)))"
      ],
      "execution_count": 15,
      "outputs": [
        {
          "output_type": "stream",
          "text": [
            "The longest question consists of 18 tokens \n",
            "The context which contains the answer can be max 489 tokens\n"
          ],
          "name": "stdout"
        }
      ]
    },
    {
      "cell_type": "code",
      "metadata": {
        "id": "Kvg7vc0RKFxe"
      },
      "source": [
        "def find_answer_in_doc(doc, answer):\n",
        "  result = [x for x in range(len(doc)) if doc[x:x+len(answer)] == answer]\n",
        "  if len(result) > 0:\n",
        "    return result[0]\n",
        "  \n",
        "  return -1"
      ],
      "execution_count": 16,
      "outputs": []
    },
    {
      "cell_type": "markdown",
      "metadata": {
        "id": "VjO7mJFzwQer"
      },
      "source": [
        "Truncates the large documents so that the encoded context (which will be used for training) contains the answer text among the entire paragraph."
      ]
    },
    {
      "cell_type": "code",
      "metadata": {
        "id": "FR8_-zkh14kC"
      },
      "source": [
        "def truncate_doc_for_answer(document, answer):\n",
        "  doc_length = len(document)\n",
        "  answer_length = len(answer)\n",
        "\n",
        "  tokenized_document = tokenizer.tokenize(document)\n",
        "  tokenized_answer = tokenizer.tokenize(answer)\n",
        "\n",
        "  doc_tokens_length = len(tokenized_document)\n",
        "  answer_tokens_length = len(tokenized_answer)\n",
        "\n",
        "  if doc_tokens_length <= max_num_of_ctx_tokens:\n",
        "    return document\n",
        "\n",
        "  token_answer_start = find_answer_in_doc(tokenized_document, tokenized_answer)\n",
        "  token_answer_end = token_answer_start + answer_tokens_length - 1\n",
        "\n",
        "  if token_answer_start == -1:\n",
        "    print('WARNING: start_answer token is -1')\n",
        "    return \"\"\n",
        "\n",
        "  if answer_tokens_length <= max_num_of_ctx_tokens:\n",
        "    if token_answer_start == 0:\n",
        "      truncated_doc = tokenized_document[:max_num_of_ctx_tokens]\n",
        "    elif token_answer_end == (doc_tokens_length - 1):\n",
        "      truncated_doc = tokenized_document[-max_num_of_ctx_tokens:]\n",
        "    else:\n",
        "      rest = max_num_of_ctx_tokens - answer_tokens_length\n",
        "      factor = round(random.uniform(0, 1), 1)\n",
        "\n",
        "      from_left_take = int(factor * rest)\n",
        "      start_at = token_answer_start - from_left_take\n",
        "      if start_at < 0:\n",
        "        start_at = 0\n",
        "        from_left_take = token_answer_start\n",
        "      \n",
        "      from_right_take = rest - from_left_take\n",
        "      end_at = token_answer_end + from_right_take\n",
        "      end_at = end_at + 1\n",
        "      if end_at >= doc_tokens_length:\n",
        "        end_at = doc_tokens_length - 1\n",
        "\n",
        "      truncated_doc = tokenized_document[start_at:end_at]\n",
        "    \n",
        "    truncated_doc = tokenizer.decode(tokenizer.convert_tokens_to_ids(truncated_doc))\n",
        "\n",
        "  else:\n",
        "    # case of long answer is excluding because it will be truncated by the tokenizer and it will affect the training \n",
        "    print('INFO: answer length is greater than max_num_of_ctx_tokens ({})'.format(str(max_num_of_ctx_tokens)))\n",
        "    truncated_doc = \"\"\n",
        "\n",
        "  return truncated_doc"
      ],
      "execution_count": 17,
      "outputs": []
    },
    {
      "cell_type": "markdown",
      "metadata": {
        "id": "Oe2mDOdMU8PJ"
      },
      "source": [
        "Converts to the required input format"
      ]
    },
    {
      "cell_type": "code",
      "metadata": {
        "id": "xvbRI46eDuB6",
        "colab": {
          "base_uri": "https://localhost:8080/"
        },
        "outputId": "1f682a29-cc0f-480a-c943-3402ab268a05"
      },
      "source": [
        "contexts = []\n",
        "questions = []\n",
        "answers = []\n",
        "\n",
        "docs_length = []\n",
        "anws_length = []\n",
        "splitted_answers = 0\n",
        "\n",
        "answer_start_per_question_dict = {}\n",
        "for index, question in questions_df.iterrows():\n",
        "  answer_start_per_question_dict[question['question_id']] = []\n",
        "\n",
        "for index, row in answers_df.iterrows():\n",
        "  document_content = documents_df.loc[documents_df['id'] == row['id'], 'content'].item()\n",
        "  document_content = text_processing(document_content)\n",
        "  docs_length.append(len(document_content))\n",
        "\n",
        "  answer_list = row['results']\n",
        "\n",
        "  for answer in answer_list:\n",
        "    for question in answer['label']:\n",
        "      question_id = question\n",
        "      question_text = questions_df.loc[questions_df['question_id'] == question_id, 'original_question'].item()\n",
        "\n",
        "      answer_text = answer['points'][0]['text']\n",
        "      answer_text = text_processing(answer_text)\n",
        "\n",
        "      anws_length.append(len(answer_text))\n",
        "      current_value = answer_start_per_question_dict[question_id]\n",
        "      current_value.append(answer['points'][0]['start'])\n",
        "      answer_start_per_question_dict.update({question_id: current_value})\n",
        "\n",
        "      truncated_doc = truncate_doc_for_answer(document_content, answer_text)\n",
        "\n",
        "      answer_start = truncated_doc.find(answer_text)\n",
        "      answer_end = answer_start + len(answer_text)\n",
        "\n",
        "      if answer_start != -1:\n",
        "        contexts.append(truncated_doc)\n",
        "        questions.append(question_text)\n",
        "        answers.append({\"text\": answer_text, \"answer_start\": answer_start, \"answer_end\": answer_end})\n",
        "      else:\n",
        "        print(\"WARNING: one answer with start index equal to -1 found\") \n",
        "\n",
        "print(len(contexts))\n",
        "print(len(questions))\n",
        "print(len(answers))"
      ],
      "execution_count": 18,
      "outputs": [
        {
          "output_type": "stream",
          "text": [
            "INFO: answer length is greater than max_num_of_ctx_tokens (489)\n",
            "WARNING: one answer with start index equal to -1 found\n",
            "WARNING: start_answer token is -1\n",
            "WARNING: one answer with start index equal to -1 found\n",
            "INFO: answer length is greater than max_num_of_ctx_tokens (489)\n",
            "WARNING: one answer with start index equal to -1 found\n",
            "WARNING: start_answer token is -1\n",
            "WARNING: one answer with start index equal to -1 found\n",
            "INFO: answer length is greater than max_num_of_ctx_tokens (489)\n",
            "WARNING: one answer with start index equal to -1 found\n",
            "INFO: answer length is greater than max_num_of_ctx_tokens (489)\n",
            "WARNING: one answer with start index equal to -1 found\n",
            "INFO: answer length is greater than max_num_of_ctx_tokens (489)\n",
            "WARNING: one answer with start index equal to -1 found\n",
            "INFO: answer length is greater than max_num_of_ctx_tokens (489)\n",
            "WARNING: one answer with start index equal to -1 found\n",
            "INFO: answer length is greater than max_num_of_ctx_tokens (489)\n",
            "WARNING: one answer with start index equal to -1 found\n",
            "INFO: answer length is greater than max_num_of_ctx_tokens (489)\n",
            "WARNING: one answer with start index equal to -1 found\n",
            "INFO: answer length is greater than max_num_of_ctx_tokens (489)\n",
            "WARNING: one answer with start index equal to -1 found\n",
            "INFO: answer length is greater than max_num_of_ctx_tokens (489)\n",
            "WARNING: one answer with start index equal to -1 found\n",
            "INFO: answer length is greater than max_num_of_ctx_tokens (489)\n",
            "WARNING: one answer with start index equal to -1 found\n",
            "INFO: answer length is greater than max_num_of_ctx_tokens (489)\n",
            "WARNING: one answer with start index equal to -1 found\n",
            "INFO: answer length is greater than max_num_of_ctx_tokens (489)\n",
            "WARNING: one answer with start index equal to -1 found\n",
            "INFO: answer length is greater than max_num_of_ctx_tokens (489)\n",
            "WARNING: one answer with start index equal to -1 found\n",
            "INFO: answer length is greater than max_num_of_ctx_tokens (489)\n",
            "WARNING: one answer with start index equal to -1 found\n",
            "INFO: answer length is greater than max_num_of_ctx_tokens (489)\n",
            "WARNING: one answer with start index equal to -1 found\n",
            "INFO: answer length is greater than max_num_of_ctx_tokens (489)\n",
            "WARNING: one answer with start index equal to -1 found\n",
            "WARNING: start_answer token is -1\n",
            "WARNING: one answer with start index equal to -1 found\n",
            "WARNING: start_answer token is -1\n",
            "WARNING: one answer with start index equal to -1 found\n",
            "WARNING: start_answer token is -1\n",
            "WARNING: one answer with start index equal to -1 found\n",
            "INFO: answer length is greater than max_num_of_ctx_tokens (489)\n",
            "WARNING: one answer with start index equal to -1 found\n",
            "INFO: answer length is greater than max_num_of_ctx_tokens (489)\n",
            "WARNING: one answer with start index equal to -1 found\n",
            "INFO: answer length is greater than max_num_of_ctx_tokens (489)\n",
            "WARNING: one answer with start index equal to -1 found\n",
            "1935\n",
            "1935\n",
            "1935\n"
          ],
          "name": "stdout"
        }
      ]
    },
    {
      "cell_type": "markdown",
      "metadata": {
        "id": "Zsl_wfxe1Bxx"
      },
      "source": [
        "##Exploratory Data Analysis (EDA)\n",
        "\n",
        "Concerns the *original* documents not the truncated documents"
      ]
    },
    {
      "cell_type": "code",
      "metadata": {
        "id": "SquMOFn0yGlL",
        "colab": {
          "base_uri": "https://localhost:8080/",
          "height": 295
        },
        "outputId": "b8121405-d70a-4619-a3f9-cf6846712f51"
      },
      "source": [
        "plt.hist(docs_length, bins = 20)\n",
        "plt.title(\"Length of documents histogram\")\n",
        "plt.xlabel(\"char length of documents\")\n",
        "plt.ylabel(\"number of documents\")\n",
        "plt.show()"
      ],
      "execution_count": 19,
      "outputs": [
        {
          "output_type": "display_data",
          "data": {
            "image/png": "[encoded data removed]",
            "text/plain": [
              "<Figure size 432x288 with 1 Axes>"
            ]
          },
          "metadata": {
            "tags": [],
            "needs_background": "light"
          }
        }
      ]
    },
    {
      "cell_type": "code",
      "metadata": {
        "id": "nYfrOgfWzpD9",
        "colab": {
          "base_uri": "https://localhost:8080/",
          "height": 295
        },
        "outputId": "97a3b193-25ad-4ae3-fa1d-0f175589522c"
      },
      "source": [
        "plt.hist(anws_length)\n",
        "plt.title(\"Length of answers histogram\")\n",
        "plt.xlabel(\"char length of answers\")\n",
        "plt.ylabel(\"number of answers\")\n",
        "plt.show()"
      ],
      "execution_count": 20,
      "outputs": [
        {
          "output_type": "display_data",
          "data": {
            "image/png": "[encoded data removed]",
            "text/plain": [
              "<Figure size 432x288 with 1 Axes>"
            ]
          },
          "metadata": {
            "tags": [],
            "needs_background": "light"
          }
        }
      ]
    },
    {
      "cell_type": "markdown",
      "metadata": {
        "id": "dzxxHlHptokV"
      },
      "source": [
        "Displays the start indexes of the answers for each question"
      ]
    },
    {
      "cell_type": "code",
      "metadata": {
        "id": "8IGTyGakpj34",
        "colab": {
          "base_uri": "https://localhost:8080/",
          "height": 1000
        },
        "outputId": "e13d527e-885b-446d-f5a2-9518cd950c9a"
      },
      "source": [
        "avg_start_index_per_question_dict = {}\n",
        "\n",
        "for index, question in questions_df.iterrows():\n",
        "  question_id = question['question_id']\n",
        "  start_indexes = [0]\n",
        "  if question_id in answer_start_per_question_dict:\n",
        "    start_indexes = answer_start_per_question_dict[question_id]\n",
        "\n",
        "  plt.hist(start_indexes)\n",
        "  plt.title('Question ' + str(index + 1) + \n",
        "            ' (' + str(len(start_indexes))\n",
        "             + ' answers)')\n",
        "  plt.xlabel(\"start indexes\")\n",
        "  plt.ylabel(\"number of answers\")\n",
        "  plt.show()\n",
        "  average_start_index = 0\n",
        "  if len(start_indexes) > 0:\n",
        "    average_start_index = int(sum(start_indexes) / len(start_indexes))\n",
        "  print(\"The average value for the start index is {} \\n\".format(str(average_start_index)))\n",
        "  avg_start_index_per_question_dict[question_id] = average_start_index"
      ],
      "execution_count": 27,
      "outputs": [
        {
          "output_type": "display_data",
          "data": {
            "image/png": "[encoded data removed]",
            "text/plain": [
              "<Figure size 432x288 with 1 Axes>"
            ]
          },
          "metadata": {
            "tags": [],
            "needs_background": "light"
          }
        },
        {
          "output_type": "stream",
          "text": [
            "The average value for the start index is 919 \n",
            "\n"
          ],
          "name": "stdout"
        },
        {
          "output_type": "display_data",
          "data": {
            "image/png": "[encoded data removed]",
            "text/plain": [
              "<Figure size 432x288 with 1 Axes>"
            ]
          },
          "metadata": {
            "tags": [],
            "needs_background": "light"
          }
        },
        {
          "output_type": "stream",
          "text": [
            "The average value for the start index is 16422 \n",
            "\n"
          ],
          "name": "stdout"
        },
        {
          "output_type": "display_data",
          "data": {
            "image/png": "[encoded data removed]",
            "text/plain": [
              "<Figure size 432x288 with 1 Axes>"
            ]
          },
          "metadata": {
            "tags": [],
            "needs_background": "light"
          }
        },
        {
          "output_type": "stream",
          "text": [
            "The average value for the start index is 9531 \n",
            "\n"
          ],
          "name": "stdout"
        },
        {
          "output_type": "display_data",
          "data": {
            "image/png": "[encoded data removed]",
            "text/plain": [
              "<Figure size 432x288 with 1 Axes>"
            ]
          },
          "metadata": {
            "tags": [],
            "needs_background": "light"
          }
        },
        {
          "output_type": "stream",
          "text": [
            "The average value for the start index is 19816 \n",
            "\n"
          ],
          "name": "stdout"
        },
        {
          "output_type": "display_data",
          "data": {
            "image/png": "[encoded data removed]",
            "text/plain": [
              "<Figure size 432x288 with 1 Axes>"
            ]
          },
          "metadata": {
            "tags": [],
            "needs_background": "light"
          }
        },
        {
          "output_type": "stream",
          "text": [
            "The average value for the start index is 19861 \n",
            "\n"
          ],
          "name": "stdout"
        },
        {
          "output_type": "display_data",
          "data": {
            "image/png": "[encoded data removed]",
            "text/plain": [
              "<Figure size 432x288 with 1 Axes>"
            ]
          },
          "metadata": {
            "tags": [],
            "needs_background": "light"
          }
        },
        {
          "output_type": "stream",
          "text": [
            "The average value for the start index is 0 \n",
            "\n"
          ],
          "name": "stdout"
        },
        {
          "output_type": "display_data",
          "data": {
            "image/png": "[encoded data removed]",
            "text/plain": [
              "<Figure size 432x288 with 1 Axes>"
            ]
          },
          "metadata": {
            "tags": [],
            "needs_background": "light"
          }
        },
        {
          "output_type": "stream",
          "text": [
            "The average value for the start index is 0 \n",
            "\n"
          ],
          "name": "stdout"
        }
      ]
    },
    {
      "cell_type": "markdown",
      "metadata": {
        "id": "OrwKdIHrBpa_"
      },
      "source": [
        "##Before training"
      ]
    },
    {
      "cell_type": "markdown",
      "metadata": {
        "id": "iuf6N9VK1-LN"
      },
      "source": [
        "Splits dataframes into train and validation datasets"
      ]
    },
    {
      "cell_type": "code",
      "metadata": {
        "id": "saKokNfu1_Fx",
        "colab": {
          "base_uri": "https://localhost:8080/"
        },
        "outputId": "85cc0678-6f46-49b9-b97d-ea1730301da2"
      },
      "source": [
        "index = int(TRAIN_FRACTION * len(contexts))\n",
        "val_index = len(contexts) - index\n",
        "\n",
        "train_contexts = contexts[:index] \n",
        "train_questions = questions[:index]\n",
        "train_answers = answers[:index]\n",
        "\n",
        "val_contexts = contexts[-(val_index):]\n",
        "val_questions = questions[-(val_index):]\n",
        "val_answers = answers[-(val_index):]\n",
        "\n",
        "print('Train dataset size {}'.format(str(len(train_contexts))))\n",
        "print('Validation dataset size {}'.format(str(len(val_contexts))))"
      ],
      "execution_count": 28,
      "outputs": [
        {
          "output_type": "stream",
          "text": [
            "Train dataset size 1741\n",
            "Validation dataset size 194\n"
          ],
          "name": "stdout"
        }
      ]
    },
    {
      "cell_type": "markdown",
      "metadata": {
        "id": "1fZzL4IE7tQq"
      },
      "source": [
        "Tokenizes the context/question pairs"
      ]
    },
    {
      "cell_type": "code",
      "metadata": {
        "id": "NYRgvaMP7sl_"
      },
      "source": [
        "train_encodings = tokenizer(train_contexts, train_questions, truncation=True, padding=True, max_length=512)\n",
        "val_encodings = tokenizer(val_contexts, val_questions, truncation=True, padding=True, max_length=512)"
      ],
      "execution_count": 29,
      "outputs": []
    },
    {
      "cell_type": "markdown",
      "metadata": {
        "id": "75YxfqnZ8q1k"
      },
      "source": [
        "Converts the character start/end positions to token start/end positions"
      ]
    },
    {
      "cell_type": "code",
      "metadata": {
        "id": "XPhmXwbO8qYq"
      },
      "source": [
        "def add_token_positions(encodings, answers):\n",
        "    start_positions = []\n",
        "    end_positions = []\n",
        "    for i in range(len(answers)):\n",
        "        start_positions.append(encodings.char_to_token(i, answers[i]['answer_start']))\n",
        "        end_positions.append(encodings.char_to_token(i, answers[i]['answer_end'] - 1))\n",
        "        # if None, the answer passage has been truncated\n",
        "        if start_positions[-1] is None:\n",
        "            print('Start position is none')\n",
        "            start_positions[-1] = 0 #tokenizer.model_max_length\n",
        "        if end_positions[-1] is None:\n",
        "            print('End position is none')\n",
        "            end_positions[-1] = 500 #tokenizer.model_max_length\n",
        "    encodings.update({'start_positions': start_positions, 'end_positions': end_positions})\n",
        "\n",
        "add_token_positions(train_encodings, train_answers)\n",
        "add_token_positions(val_encodings, val_answers)"
      ],
      "execution_count": 30,
      "outputs": []
    },
    {
      "cell_type": "markdown",
      "metadata": {
        "id": "dFx4zqk0--ga"
      },
      "source": [
        "Creates datasets classes"
      ]
    },
    {
      "cell_type": "code",
      "metadata": {
        "id": "OK1kM-zF--yG"
      },
      "source": [
        "train_dataset = tf.data.Dataset.from_tensor_slices((\n",
        "    {key: train_encodings[key] for key in ['input_ids', 'attention_mask']},\n",
        "    {key: train_encodings[key] for key in ['start_positions', 'end_positions']}\n",
        "))\n",
        "val_dataset = tf.data.Dataset.from_tensor_slices((\n",
        "    {key: val_encodings[key] for key in ['input_ids', 'attention_mask']},\n",
        "    {key: val_encodings[key] for key in ['start_positions', 'end_positions']}\n",
        "))"
      ],
      "execution_count": 31,
      "outputs": []
    },
    {
      "cell_type": "markdown",
      "metadata": {
        "id": "94X4M_w2nHIT"
      },
      "source": [
        "##Training"
      ]
    },
    {
      "cell_type": "code",
      "metadata": {
        "id": "2NGNmq9C9Dh7",
        "colab": {
          "base_uri": "https://localhost:8080/",
          "height": 353,
          "referenced_widgets": [
            "382232d53d1d472dbbf90cb255b31686",
            "ac3f295c1eb842178162b7be4a47dccd",
            "4aac74463cb84bf792d0abc518e257e9",
            "4093ca913cf44e6687f8499e5fa2a575",
            "77dba26f5a654b05b23900b6b917afbe",
            "57e622c6de6b47fb9bad1bdb93047c48",
            "68483e88398a4b80b7dd8ce07474d947",
            "003806ffb1b348d6a7c167436d11e69d",
            "b935abcaae71419ca6dae12c9de452c4",
            "2aefa0978d24458d9ae78087bab17a0b",
            "91bee85e0aad4e4d9ecd23b41756fb31",
            "a626e610120b4bf0bd7d82c6a1736838",
            "2bbfdece0e7c49fd957b8e7097757469",
            "177c83ffe51f4a90a36baed13c145f95",
            "a64970affcca42d6be04c92729481c4a",
            "33ae475e9a684979824e3cb4a0fdd9c7"
          ]
        },
        "outputId": "e05af2b2-9ed9-4257-f31e-070bb21c16f7"
      },
      "source": [
        "train_dataset = train_dataset.map(lambda x, y: (x, (y['start_positions'], y['end_positions'])))\n",
        "val_dataset = val_dataset.map(lambda x, y: (x, (y['start_positions'], y['end_positions'])))\n",
        "\n",
        "loss = tf.keras.losses.SparseCategoricalCrossentropy(from_logits=True)\n",
        "model = TFBertForQuestionAnswering.from_pretrained(PRETRAINED_MODEL_NAME)\n",
        "optimizer = tf.keras.optimizers.Adam(learning_rate=5e-5)\n",
        "model.compile(optimizer=optimizer, loss=loss)\n",
        "\n",
        "batch_size = 8\n",
        "model.fit(train_dataset.shuffle(100).batch(batch_size),\n",
        "          epochs=2,\n",
        "          batch_size=batch_size,\n",
        "          validation_data=val_dataset.shuffle(100).batch(batch_size))\n"
      ],
      "execution_count": 32,
      "outputs": [
        {
          "output_type": "display_data",
          "data": {
            "application/vnd.jupyter.widget-view+json": {
              "model_id": "382232d53d1d472dbbf90cb255b31686",
              "version_minor": 0,
              "version_major": 2
            },
            "text/plain": [
              "HBox(children=(FloatProgress(value=0.0, description='Downloading', max=459.0, style=ProgressStyle(description_…"
            ]
          },
          "metadata": {
            "tags": []
          }
        },
        {
          "output_type": "stream",
          "text": [
            "\n"
          ],
          "name": "stdout"
        },
        {
          "output_type": "display_data",
          "data": {
            "application/vnd.jupyter.widget-view+json": {
              "model_id": "b935abcaae71419ca6dae12c9de452c4",
              "version_minor": 0,
              "version_major": 2
            },
            "text/plain": [
              "HBox(children=(FloatProgress(value=0.0, description='Downloading', max=563593952.0, style=ProgressStyle(descri…"
            ]
          },
          "metadata": {
            "tags": []
          }
        },
        {
          "output_type": "stream",
          "text": [
            "\n"
          ],
          "name": "stdout"
        },
        {
          "output_type": "stream",
          "text": [
            "Some layers from the model checkpoint at nlpaueb/bert-base-greek-uncased-v1 were not used when initializing TFBertForQuestionAnswering: ['mlm___cls', 'nsp___cls']\n",
            "- This IS expected if you are initializing TFBertForQuestionAnswering from the checkpoint of a model trained on another task or with another architecture (e.g. initializing a BertForSequenceClassification model from a BertForPretraining model).\n",
            "- This IS NOT expected if you are initializing TFBertForQuestionAnswering from the checkpoint of a model that you expect to be exactly identical (initializing a BertForSequenceClassification model from a BertForSequenceClassification model).\n",
            "Some layers of TFBertForQuestionAnswering were not initialized from the model checkpoint at nlpaueb/bert-base-greek-uncased-v1 and are newly initialized: ['qa_outputs']\n",
            "You should probably TRAIN this model on a down-stream task to be able to use it for predictions and inference.\n"
          ],
          "name": "stderr"
        },
        {
          "output_type": "stream",
          "text": [
            "Epoch 1/2\n",
            "WARNING:tensorflow:Gradients do not exist for variables ['tf_bert_for_question_answering/bert/pooler/dense/kernel:0', 'tf_bert_for_question_answering/bert/pooler/dense/bias:0'] when minimizing the loss.\n",
            "WARNING:tensorflow:Gradients do not exist for variables ['tf_bert_for_question_answering/bert/pooler/dense/kernel:0', 'tf_bert_for_question_answering/bert/pooler/dense/bias:0'] when minimizing the loss.\n",
            "218/218 [==============================] - 146s 600ms/step - loss: 7.4300 - output_1_loss: 3.3596 - output_2_loss: 4.0704 - val_loss: 4.0541 - val_output_1_loss: 1.9667 - val_output_2_loss: 2.0873\n",
            "Epoch 2/2\n",
            "218/218 [==============================] - 128s 587ms/step - loss: 3.7082 - output_1_loss: 1.6326 - output_2_loss: 2.0756 - val_loss: 3.8051 - val_output_1_loss: 1.8767 - val_output_2_loss: 1.9284\n"
          ],
          "name": "stdout"
        },
        {
          "output_type": "execute_result",
          "data": {
            "text/plain": [
              "<tensorflow.python.keras.callbacks.History at 0x7f2821d27240>"
            ]
          },
          "metadata": {
            "tags": []
          },
          "execution_count": 32
        }
      ]
    },
    {
      "cell_type": "code",
      "metadata": {
        "id": "MNbCwX4AH0My",
        "colab": {
          "base_uri": "https://localhost:8080/"
        },
        "outputId": "89b8fc15-8ac4-428d-fa76-db407d46f66c"
      },
      "source": [
        "model.summary()"
      ],
      "execution_count": 33,
      "outputs": [
        {
          "output_type": "stream",
          "text": [
            "Model: \"tf_bert_for_question_answering\"\n",
            "_________________________________________________________________\n",
            "Layer (type)                 Output Shape              Param #   \n",
            "=================================================================\n",
            "bert (TFBertMainLayer)       multiple                  112921344 \n",
            "_________________________________________________________________\n",
            "qa_outputs (Dense)           multiple                  1538      \n",
            "=================================================================\n",
            "Total params: 112,922,882\n",
            "Trainable params: 112,922,882\n",
            "Non-trainable params: 0\n",
            "_________________________________________________________________\n"
          ],
          "name": "stdout"
        }
      ]
    },
    {
      "cell_type": "markdown",
      "metadata": {
        "id": "qCkcSHJ_S8a6"
      },
      "source": [
        "##Prediction"
      ]
    },
    {
      "cell_type": "code",
      "metadata": {
        "id": "hYGZMjOktnWm",
        "colab": {
          "base_uri": "https://localhost:8080/"
        },
        "outputId": "187cb1f3-ae38-4862-d9e2-5a96f6344b5f"
      },
      "source": [
        "with open(os.path.join('data', 'documents_test.json'), 'r', encoding='utf-8') as input_json:\n",
        "    documents_to_predict_json_file = json.loads(input_json.read())\n",
        "\n",
        "documents_to_predict_df = json_normalize(documents_to_predict_json_file['data'])"
      ],
      "execution_count": 34,
      "outputs": [
        {
          "output_type": "stream",
          "text": [
            "/usr/local/lib/python3.6/dist-packages/ipykernel_launcher.py:4: FutureWarning: pandas.io.json.json_normalize is deprecated, use pandas.json_normalize instead\n",
            "  after removing the cwd from sys.path.\n"
          ],
          "name": "stderr"
        }
      ]
    },
    {
      "cell_type": "code",
      "metadata": {
        "id": "_acdMu-M0HGt"
      },
      "source": [
        "CHAR_NUM_TO_SPLIT_DOC = 1000\n",
        "\n",
        "def split_document_into_chunks(document):\n",
        "    return list((document[i:i+CHAR_NUM_TO_SPLIT_DOC] for i in range(0, len(document), CHAR_NUM_TO_SPLIT_DOC)))"
      ],
      "execution_count": 35,
      "outputs": []
    },
    {
      "cell_type": "code",
      "metadata": {
        "id": "uwEjcK-8xegf"
      },
      "source": [
        "SLIDING = 2000\n",
        "\n",
        "def where_to_search(question_id, doc):\n",
        "  if question_id not in avg_start_index_per_question_dict:\n",
        "    return doc\n",
        "\n",
        "  avg_start_index = avg_start_index_per_question_dict[question_id]\n",
        "  start = avg_start_index - SLIDING\n",
        "  if start < 0 :\n",
        "    start = 0\n",
        "\n",
        "  end = avg_start_index + (2*SLIDING)\n",
        "  if end >= len(doc):\n",
        "    end = len(doc) - 1\n",
        "\n",
        "  return doc[start:end]"
      ],
      "execution_count": 36,
      "outputs": []
    },
    {
      "cell_type": "code",
      "metadata": {
        "id": "Jccs5WkyLDGX"
      },
      "source": [
        "def predict_answer(question, context): \n",
        "  encoded_tokens =  tokenizer.encode_plus(question, context, \n",
        "                                          add_special_tokens=True,\n",
        "                                          return_token_type_ids=True, \n",
        "                                          return_tensors=\"tf\",\n",
        "                                          truncation=False)\n",
        "    \n",
        "  token_ids = list(encoded_tokens[\"input_ids\"].numpy()[0])\n",
        "\n",
        "  answer_start_scores, answer_end_scores = model(encoded_tokens)  \n",
        "  \n",
        "  answer_start = tf.argmax(answer_start_scores, axis=1).numpy()[0] \n",
        "  answer_end = (tf.argmax(answer_end_scores, axis=1) + 1).numpy()[0]\n",
        "  \n",
        "  answer = \"\"\n",
        "  if answer_end > answer_start:\n",
        "    answer = tokenizer.decode(token_ids[answer_start:answer_end])\n",
        "  \n",
        "  #print(\"[chunk] Q: {} A: {}\".format(question, answer))\n",
        "\n",
        "  return answer"
      ],
      "execution_count": 37,
      "outputs": []
    },
    {
      "cell_type": "code",
      "metadata": {
        "id": "TUqrg-Vdx4T7"
      },
      "source": [
        "def batch_predict(questions, context):\n",
        "  answers = []\n",
        "  question_context_for_batch = []\n",
        "\n",
        "  for question in questions :\n",
        "      question_context_for_batch.append((question, context))\n",
        "\n",
        "  encoding = tokenizer.batch_encode_plus(question_context_for_batch,\n",
        "                                         return_token_type_ids=True,\n",
        "                                         padding=True,\n",
        "                                         return_tensors=\"tf\")\n",
        "  \n",
        "  input_ids = list(encoding[\"input_ids\"].numpy())\n",
        "  start_scores, end_scores = model(encoding)\n",
        "\n",
        "  for index,(start_score,end_score,input_id) in enumerate(zip(start_scores, end_scores, input_ids)):\n",
        "      answer_start = tf.argmax(start_score)\n",
        "      answer_end = tf.argmax(end_score)\n",
        "     \n",
        "      answer_tokens = input_ids[index][answer_start: answer_end + 1]\n",
        "      answer = tokenizer.decode(answer_tokens)      \n",
        "      answers.append(answer)\n",
        "\n",
        "      #print(\"[chunk] Q: {} A: {}\".format(questions[index], answer))\n",
        "\n",
        "  return answers"
      ],
      "execution_count": 38,
      "outputs": []
    },
    {
      "cell_type": "code",
      "metadata": {
        "id": "MlfTi6sUuGur"
      },
      "source": [
        "estimated_answers_df = pd.DataFrame(columns=['document_id', 'question_id', 'answer'])\n",
        "\n",
        "for index, doc in documents_to_predict_df.iterrows():\n",
        "  print('----- Document {} predictions -----'.format(str(index)))\n",
        "  for q_index, question in questions_df.iterrows():\n",
        "    question_id = question['question_id']\n",
        "    doc_sub_part = where_to_search(question_id, doc['content'])\n",
        "    document_chunks = split_document_into_chunks(doc_sub_part)\n",
        "    \n",
        "    answer = ''\n",
        "    for chunk in document_chunks:\n",
        "      sub_answer = predict_answer(question['original_question'], chunk)\n",
        "      answer = answer + sub_answer\n",
        "\n",
        "    if answer == '':\n",
        "      answer = 'no answer'    \n",
        "      \n",
        "    print('RESULT: Question {} - answer {}'.format(str(question_id), str(answer)))\n",
        "\n",
        "    estimated_answers_df = estimated_answers_df.append(\n",
        "        {'document_id': doc['id'], \n",
        "        'question_id': question_id,\n",
        "        'answer': answer},\n",
        "        ignore_index=True)\n",
        "    \n",
        "\n",
        "    estimated_answers_df.to_csv(os.path.join('data', 'estimated_answers.csv'), index=False, encoding='utf-8')\n",
        "  \n",
        "  #break"
      ],
      "execution_count": null,
      "outputs": []
    }
  ]
}